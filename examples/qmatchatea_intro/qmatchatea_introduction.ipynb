{
 "cells": [
  {
   "cell_type": "markdown",
   "id": "656bb283-ac6d-48d2-a029-3c417c9961f8",
   "metadata": {},
   "source": [
    "## Introduction to Quantum Matcha Tea backend in QiboTN\n",
    "\n",
    "#### Some imports"
   ]
  },
  {
   "cell_type": "code",
   "execution_count": 1,
   "id": "6722d94e-e311-48f9-b6df-c6d829bf67fb",
   "metadata": {},
   "outputs": [],
   "source": [
    "import time\n",
    "import numpy as np\n",
    "from scipy import stats\n",
    "\n",
    "import qibo\n",
    "from qibo import Circuit, gates, hamiltonians\n",
    "from qibo.backends import construct_backend\n",
    "\n",
    "from qmatchatea import QCConvergenceParameters"
   ]
  },
  {
   "cell_type": "markdown",
   "id": "a009a5e0-cfd4-4a49-9f7c-e82f252c6147",
   "metadata": {},
   "source": [
    "#### Some hyper parameters"
   ]
  },
  {
   "cell_type": "code",
   "execution_count": 2,
   "id": "64162116-1555-4a68-811c-01593739d622",
   "metadata": {},
   "outputs": [],
   "source": [
    "# construct qibotn backend\n",
    "qmatcha_backend = construct_backend(backend=\"qibotn\", platform=\"qmatchatea\")\n",
    "\n",
    "# set number of qubits\n",
    "nqubits = 4\n",
    "\n",
    "# set numpy random seed\n",
    "np.random.seed(42)"
   ]
  },
  {
   "cell_type": "markdown",
   "id": "252f5cd1-5932-4de6-8076-4a357d50ebad",
   "metadata": {},
   "source": [
    "#### Constructing a parametric quantum circuit"
   ]
  },
  {
   "cell_type": "code",
   "execution_count": 3,
   "id": "4a22a172-f50d-411d-afa3-fa61937c7b3a",
   "metadata": {},
   "outputs": [],
   "source": [
    "def build_circuit(nqubits, nlayers):\n",
    "    \"\"\"Construct a parametric quantum circuit.\"\"\"\n",
    "    circ = Circuit(nqubits)\n",
    "    for _ in range(nlayers):\n",
    "        for q in range(nqubits):\n",
    "            circ.add(gates.RY(q=q, theta=0.))\n",
    "            circ.add(gates.RZ(q=q, theta=0.))\n",
    "        [circ.add(gates.CNOT(q%nqubits, (q+1)%nqubits) for q in range(nqubits))]\n",
    "    circ.add(gates.M(*range(nqubits)))\n",
    "    return circ"
   ]
  },
  {
   "cell_type": "code",
   "execution_count": 4,
   "id": "76f23c57-6d08-496b-9a27-52fb63bbfcb1",
   "metadata": {},
   "outputs": [
    {
     "name": "stdout",
     "output_type": "stream",
     "text": [
      "0: ─RY─RZ─o─────X─RY─RZ─o─────X─RY─RZ─o─────X─M─\n",
      "1: ─RY─RZ─X─o───|─RY─RZ─X─o───|─RY─RZ─X─o───|─M─\n",
      "2: ─RY─RZ───X─o─|─RY─RZ───X─o─|─RY─RZ───X─o─|─M─\n",
      "3: ─RY─RZ─────X─o─RY─RZ─────X─o─RY─RZ─────X─o─M─\n"
     ]
    }
   ],
   "source": [
    "circuit = build_circuit(nqubits=nqubits, nlayers=3)\n",
    "circuit.draw()"
   ]
  },
  {
   "cell_type": "code",
   "execution_count": 5,
   "id": "07b2c097-cea2-42ec-8f1d-b4bbb5b71d98",
   "metadata": {},
   "outputs": [],
   "source": [
    "# Setting random parameters\n",
    "circuit.set_parameters(\n",
    "    parameters=np.random.uniform(-np.pi, np.pi, len(circuit.get_parameters())),\n",
    ")"
   ]
  },
  {
   "cell_type": "markdown",
   "id": "fd0cea52-03f5-4366-a01a-a5a84aa8ebc7",
   "metadata": {},
   "source": [
    "#### Setting up the tensor network simulator\n",
    "\n",
    "Depending on the simulator, various parameters can be set. In the case of Quantum Matcha, we direclty exploit the `qmatchatea` interface and we construct a `QCConvergenceParameters` object (for more info [this is the link to the qmatchatea code](https://baltig.infn.it/quantum_matcha_tea/py_api_quantum_matcha_tea/-/blob/master/qmatchatea/utils/utils.py?ref_type=heads#L540))."
   ]
  },
  {
   "cell_type": "code",
   "execution_count": 6,
   "id": "34452bfd-2287-4b38-8099-e072239eab74",
   "metadata": {},
   "outputs": [],
   "source": [
    "# We first define the useful objects \n",
    "convergence_parameters = QCConvergenceParameters(cut_ratio=1e-6, max_bond_dimension=50)\n",
    "\n",
    "# And then call the dedicate configuration function\n",
    "qmatcha_backend.configure_tn_simulation(\n",
    "    convergence_params=convergence_parameters,\n",
    "    ansatz=\"MPS\",\n",
    ")"
   ]
  },
  {
   "cell_type": "markdown",
   "id": "648d85b8-445d-4081-aeed-1691fbae67be",
   "metadata": {},
   "source": [
    "#### Executing through the backend\n",
    "\n",
    "The `backend.execute_circuit` method can be used then. We can simulate results in three ways:\n",
    "1. reconstruction of the final state (statevector like, only if `nqubits < 20` due to Quantum Matcha Tea setup);\n",
    "2. computation of the relevant probabilities of the final state. There are three way of doing so, but we will see it directly into the docstrings;\n",
    "3. reconstruction of the relevant state's frequencies (only if `nshots` is not `None`)."
   ]
  },
  {
   "cell_type": "code",
   "execution_count": 7,
   "id": "221ef886-5578-4200-a019-dcafa51aada3",
   "metadata": {},
   "outputs": [
    {
     "data": {
      "text/plain": [
       "\u001b[0;31mSignature:\u001b[0m\n",
       "\u001b[0mqmatcha_backend\u001b[0m\u001b[0;34m.\u001b[0m\u001b[0mexecute_circuit\u001b[0m\u001b[0;34m(\u001b[0m\u001b[0;34m\u001b[0m\n",
       "\u001b[0;34m\u001b[0m    \u001b[0mcircuit\u001b[0m\u001b[0;34m,\u001b[0m\u001b[0;34m\u001b[0m\n",
       "\u001b[0;34m\u001b[0m    \u001b[0minitial_state\u001b[0m\u001b[0;34m=\u001b[0m\u001b[0;32mNone\u001b[0m\u001b[0;34m,\u001b[0m\u001b[0;34m\u001b[0m\n",
       "\u001b[0;34m\u001b[0m    \u001b[0mnshots\u001b[0m\u001b[0;34m=\u001b[0m\u001b[0;32mNone\u001b[0m\u001b[0;34m,\u001b[0m\u001b[0;34m\u001b[0m\n",
       "\u001b[0;34m\u001b[0m    \u001b[0mprob_type\u001b[0m\u001b[0;34m=\u001b[0m\u001b[0;34m'U'\u001b[0m\u001b[0;34m,\u001b[0m\u001b[0;34m\u001b[0m\n",
       "\u001b[0;34m\u001b[0m    \u001b[0;34m**\u001b[0m\u001b[0mprob_kwargs\u001b[0m\u001b[0;34m,\u001b[0m\u001b[0;34m\u001b[0m\n",
       "\u001b[0;34m\u001b[0m\u001b[0;34m)\u001b[0m\u001b[0;34m\u001b[0m\u001b[0;34m\u001b[0m\u001b[0m\n",
       "\u001b[0;31mDocstring:\u001b[0m\n",
       "Execute a Qibo quantum circuit using tensor network simulation.\n",
       "\n",
       "This method returns a ``TensorNetworkResult`` object, which provides:\n",
       "  - Reconstruction of the system state (if the system size is < 20).\n",
       "  - Frequencies (if the number of shots is specified).\n",
       "  - Probabilities computed using various methods.\n",
       "\n",
       "The following probability computation methods are available, as implemented \n",
       "in Quantum Matcha Tea:\n",
       "  - **\"E\" (Even):** Probabilities are computed by evenly descending the probability tree, \n",
       "    pruning branches (states) with probabilities below a threshold.\n",
       "  - **\"G\" (Greedy):** Probabilities are computed by following the most probable states \n",
       "    in descending order until reaching a given coverage (sum of probabilities).\n",
       "  - **\"U\" (Unbiased):** An optimal probability measure that is unbiased and designed \n",
       "    for best performance. See https://arxiv.org/abs/2401.10330 for details.\n",
       "\n",
       "Args:\n",
       "    circuit: A Qibo circuit to execute.\n",
       "    initial_state: The initial state of the system (default is the vacuum state \n",
       "        for tensor network simulations).\n",
       "    nshots: The number of shots for shot-noise simulation (optional).\n",
       "    prob_type: The probability computation method. Must be one of:\n",
       "        - \"E\" (Even)\n",
       "        - \"G\" (Greedy)\n",
       "        - \"U\" (Unbiased) [default].\n",
       "    prob_kwargs: Additional parameters required for probability computation:\n",
       "        - For \"U\", requires ``num_samples``.\n",
       "        - For \"E\" and \"G\", requires ``prob_threshold``.\n",
       "\n",
       "Returns:\n",
       "    TensorNetworkResult: An object with methods to reconstruct the state, \n",
       "    compute probabilities, and generate frequencies.\n",
       "\u001b[0;31mFile:\u001b[0m      ~/Documents/PhD/qibotn/src/qibotn/backends/qmatchatea.py\n",
       "\u001b[0;31mType:\u001b[0m      method\n"
      ]
     },
     "metadata": {},
     "output_type": "display_data"
    }
   ],
   "source": [
    "qmatcha_backend.execute_circuit?"
   ]
  },
  {
   "cell_type": "code",
   "execution_count": 8,
   "id": "35a244c3-adba-4b8b-b28c-0ab592b0f7cf",
   "metadata": {},
   "outputs": [
    {
     "data": {
      "text/plain": [
       "{'nqubits': 4,\n",
       " 'backend': QMatchaTeaBackend(),\n",
       " 'measures': None,\n",
       " 'measured_probabilities': {'U': {'0000': (0.0, 0.08390937969317301),\n",
       "   '0001': (0.08390937969317301, 0.08858639088838134),\n",
       "   '0010': (0.08858639088838131, 0.1832549957082757),\n",
       "   '0011': (0.1832549957082757, 0.25896776804349736),\n",
       "   '0100': (0.2589677680434974, 0.33039716334036867),\n",
       "   '0101': (0.33039716334036867, 0.386620221067355),\n",
       "   '0110': (0.3866202210673549, 0.4380808691410473),\n",
       "   '0111': (0.4380808691410473, 0.47837271988834),\n",
       "   '1000': (0.47837271988834, 0.5916815553716759),\n",
       "   '1001': (0.5916815553716759, 0.5972581739037379),\n",
       "   '1010': (0.5972581739037378, 0.6359857590550054),\n",
       "   '1011': (0.6359857590550054, 0.6894851559808782),\n",
       "   '1100': (0.6894851559808783, 0.7030911408535467),\n",
       "   '1101': (0.7030911408535467, 0.8264027395524797),\n",
       "   '1110': (0.8264027395524797, 0.8981519382820797),\n",
       "   '1111': (0.8981519382820797, 0.9999999999999998)},\n",
       "  'E': [None],\n",
       "  'G': [None]},\n",
       " 'prob_type': 'U',\n",
       " 'statevector': array([ 0.08809627-0.27595005j,  0.24859731-0.22695421j,\n",
       "         0.18807826+0.18988408j,  0.09444097+0.06846085j,\n",
       "         0.00470148+0.30764671j,  0.17371395-0.09247188j,\n",
       "        -0.18900305+0.12545316j, -0.17359753+0.20399288j,\n",
       "        -0.0517478 +0.04471215j, -0.0411739 -0.06230031j,\n",
       "         0.22377064+0.07842041j, -0.21784975-0.27541439j,\n",
       "        -0.27208941+0.04098933j, -0.22748127+0.04185292j,\n",
       "         0.17105258-0.10503745j, -0.01729753-0.31866731j])}"
      ]
     },
     "execution_count": 8,
     "metadata": {},
     "output_type": "execute_result"
    }
   ],
   "source": [
    "# Simple execution (defaults)\n",
    "outcome = qmatcha_backend.execute_circuit(circuit=circuit)\n",
    "\n",
    "# Print outcome\n",
    "vars(outcome)"
   ]
  },
  {
   "cell_type": "code",
   "execution_count": 9,
   "id": "60501c3d-2a44-421f-b434-4a508714b132",
   "metadata": {},
   "outputs": [
    {
     "data": {
      "text/plain": [
       "{'nqubits': 4,\n",
       " 'backend': QMatchaTeaBackend(),\n",
       " 'measures': None,\n",
       " 'measured_probabilities': {'U': [None],\n",
       "  'E': {'0000': 0.08390937969317301,\n",
       "   '0010': 0.09466860481989439,\n",
       "   '0011': 0.07571277233522165,\n",
       "   '0100': 0.07142939529687124,\n",
       "   '0101': 0.05622305772698632,\n",
       "   '0110': 0.05146064807369245,\n",
       "   '1000': 0.11330883548333581,\n",
       "   '1011': 0.053499396925872765,\n",
       "   '1101': 0.12331159869893296,\n",
       "   '1110': 0.07174919872960005,\n",
       "   '1111': 0.10184806171792007},\n",
       "  'G': [None]},\n",
       " 'prob_type': 'E',\n",
       " 'statevector': array([ 0.08809627-0.27595005j,  0.24859731-0.22695421j,\n",
       "         0.18807826+0.18988408j,  0.09444097+0.06846085j,\n",
       "         0.00470148+0.30764671j,  0.17371395-0.09247188j,\n",
       "        -0.18900305+0.12545316j, -0.17359753+0.20399288j,\n",
       "        -0.0517478 +0.04471215j, -0.0411739 -0.06230031j,\n",
       "         0.22377064+0.07842041j, -0.21784975-0.27541439j,\n",
       "        -0.27208941+0.04098933j, -0.22748127+0.04185292j,\n",
       "         0.17105258-0.10503745j, -0.01729753-0.31866731j])}"
      ]
     },
     "execution_count": 9,
     "metadata": {},
     "output_type": "execute_result"
    }
   ],
   "source": [
    "# Execution with a specific probability type\n",
    "# We use here \"E\", which is cutting some of the components if under a threshold\n",
    "outcome = qmatcha_backend.execute_circuit(\n",
    "    circuit=circuit,\n",
    "    prob_type=\"E\",\n",
    "    prob_threshold=0.05,\n",
    ")\n",
    "\n",
    "# Print outcome\n",
    "vars(outcome)"
   ]
  },
  {
   "cell_type": "markdown",
   "id": "84ec0b48-f6b4-495c-93b8-8e42d1a8b0df",
   "metadata": {},
   "source": [
    "---\n",
    "\n",
    "One can access to the specific contents of the simulation outcome."
   ]
  },
  {
   "cell_type": "code",
   "execution_count": 10,
   "id": "c0443efc-21ef-4ed5-9cf4-785d204a1881",
   "metadata": {},
   "outputs": [
    {
     "name": "stdout",
     "output_type": "stream",
     "text": [
      "Probabilities:\n",
      " {'0000': 0.08390937969317301, '0010': 0.09466860481989439, '0011': 0.07571277233522165, '0100': 0.07142939529687124, '0101': 0.05622305772698632, '0110': 0.05146064807369245, '1000': 0.11330883548333581, '1011': 0.053499396925872765, '1101': 0.12331159869893296, '1110': 0.07174919872960005, '1111': 0.10184806171792007}\n",
      "\n",
      "State:\n",
      " [ 0.08809627-0.27595005j  0.24859731-0.22695421j  0.18807826+0.18988408j\n",
      "  0.09444097+0.06846085j  0.00470148+0.30764671j  0.17371395-0.09247188j\n",
      " -0.18900305+0.12545316j -0.17359753+0.20399288j -0.0517478 +0.04471215j\n",
      " -0.0411739 -0.06230031j  0.22377064+0.07842041j -0.21784975-0.27541439j\n",
      " -0.27208941+0.04098933j -0.22748127+0.04185292j  0.17105258-0.10503745j\n",
      " -0.01729753-0.31866731j]\n",
      "\n"
     ]
    }
   ],
   "source": [
    "print(f\"Probabilities:\\n {outcome.probabilities()}\\n\")\n",
    "print(f\"State:\\n {outcome.state()}\\n\")"
   ]
  },
  {
   "cell_type": "markdown",
   "id": "9f477388-ca45-409a-a0ce-6603ec294e42",
   "metadata": {},
   "source": [
    "---\n",
    "\n",
    "But frequencies cannot be accessed, since no shots have been set."
   ]
  },
  {
   "cell_type": "code",
   "execution_count": 11,
   "id": "8a868f3e-8383-47ee-a93a-27c5f85e48c5",
   "metadata": {},
   "outputs": [],
   "source": [
    "# print(f\"Frequencies:\\n {outcome.frequencies()}\\n\")"
   ]
  },
  {
   "cell_type": "markdown",
   "id": "8e9413c7-602a-44ed-a50c-1c3dd4dd7494",
   "metadata": {},
   "source": [
    "---\n",
    "\n",
    "We can then repeat the execution by setting the number of shots"
   ]
  },
  {
   "cell_type": "code",
   "execution_count": 12,
   "id": "68122cd3-662f-4fd1-bb9c-d33b6f5448dd",
   "metadata": {},
   "outputs": [
    {
     "data": {
      "text/plain": [
       "{'nqubits': 4,\n",
       " 'backend': QMatchaTeaBackend(),\n",
       " 'measures': {'0000': 88,\n",
       "  '0001': 7,\n",
       "  '0010': 90,\n",
       "  '0011': 78,\n",
       "  '0100': 72,\n",
       "  '0101': 56,\n",
       "  '0110': 47,\n",
       "  '0111': 41,\n",
       "  '1000': 120,\n",
       "  '1001': 7,\n",
       "  '1010': 41,\n",
       "  '1011': 53,\n",
       "  '1100': 20,\n",
       "  '1101': 129,\n",
       "  '1110': 73,\n",
       "  '1111': 102},\n",
       " 'measured_probabilities': {'U': [None],\n",
       "  'E': {'0000': 0.08390937969317301,\n",
       "   '0010': 0.09466860481989439,\n",
       "   '0011': 0.07571277233522165,\n",
       "   '0100': 0.07142939529687124,\n",
       "   '0101': 0.05622305772698632,\n",
       "   '0110': 0.05146064807369245,\n",
       "   '1000': 0.11330883548333581,\n",
       "   '1011': 0.053499396925872765,\n",
       "   '1101': 0.12331159869893296,\n",
       "   '1110': 0.07174919872960005,\n",
       "   '1111': 0.10184806171792007},\n",
       "  'G': [None]},\n",
       " 'prob_type': 'E',\n",
       " 'statevector': array([ 0.08809627-0.27595005j,  0.24859731-0.22695421j,\n",
       "         0.18807826+0.18988408j,  0.09444097+0.06846085j,\n",
       "         0.00470148+0.30764671j,  0.17371395-0.09247188j,\n",
       "        -0.18900305+0.12545316j, -0.17359753+0.20399288j,\n",
       "        -0.0517478 +0.04471215j, -0.0411739 -0.06230031j,\n",
       "         0.22377064+0.07842041j, -0.21784975-0.27541439j,\n",
       "        -0.27208941+0.04098933j, -0.22748127+0.04185292j,\n",
       "         0.17105258-0.10503745j, -0.01729753-0.31866731j])}"
      ]
     },
     "execution_count": 12,
     "metadata": {},
     "output_type": "execute_result"
    }
   ],
   "source": [
    "# Execution with a specific probability type\n",
    "# We use here \"E\", which is cutting some of the components if under a threshold\n",
    "outcome = qmatcha_backend.execute_circuit(\n",
    "    circuit=circuit,\n",
    "    nshots=1024,\n",
    "    prob_type=\"E\",\n",
    "    prob_threshold=0.05,\n",
    ")\n",
    "\n",
    "# Print outcome\n",
    "vars(outcome)"
   ]
  },
  {
   "cell_type": "code",
   "execution_count": 13,
   "id": "ef0e9591-ccca-4cdd-a81b-2bfb3caaf3d0",
   "metadata": {},
   "outputs": [
    {
     "name": "stdout",
     "output_type": "stream",
     "text": [
      "Frequencies:\n",
      " {'0000': 88, '0001': 7, '0010': 90, '0011': 78, '0100': 72, '0101': 56, '0110': 47, '0111': 41, '1000': 120, '1001': 7, '1010': 41, '1011': 53, '1100': 20, '1101': 129, '1110': 73, '1111': 102}\n",
      "\n"
     ]
    }
   ],
   "source": [
    "# And then finally access frequencies!\n",
    "print(f\"Frequencies:\\n {outcome.frequencies()}\\n\")"
   ]
  },
  {
   "cell_type": "markdown",
   "id": "7fe725ff-533e-4648-9f8d-9cb6c0826354",
   "metadata": {},
   "source": [
    "#### Testing the performances"
   ]
  },
  {
   "cell_type": "code",
   "execution_count": 14,
   "id": "9e9632d5-28dd-4846-8457-c579d0cb9453",
   "metadata": {},
   "outputs": [],
   "source": [
    "qmatcha_range = range(2, 100, 2)\n",
    "qibojit_threshold = 28\n",
    "qibojit_range = range(2, qibojit_threshold, 2)"
   ]
  },
  {
   "cell_type": "code",
   "execution_count": null,
   "id": "4e6b1126-32ab-418d-b760-44ff62048f70",
   "metadata": {},
   "outputs": [],
   "source": [
    "qmatcha_times, qmatcha_errs = [], []\n",
    "qibojit_times, qibojit_errs = [], []\n",
    "\n",
    "qibojit_backend = construct_backend(\"qibojit\", platform=\"numba\")\n",
    "qibo.set_threads(2)\n",
    "\n",
    "\n",
    "for q in qmatcha_range:\n",
    "    print(f\"Executing for {q} qubits\")\n",
    "    # Build the circuit\n",
    "    circuit = build_circuit(q, 1)\n",
    "\n",
    "    reasonable_exp = min(13, int(q / 2))\n",
    "    \n",
    "    qmatcha_backend.configure_tn_simulation(\n",
    "        convergence_params=QCConvergenceParameters(max_bond_dimension=2**reasonable_exp),\n",
    "        ansatz=\"MPS\"\n",
    "    )\n",
    "\n",
    "    tmp_qmatcha_times, tmp_qibojit_times = [], []    \n",
    "    for i in range(20):\n",
    "        # Set random parameters\n",
    "        circuit.set_parameters(parameters=np.random.uniform(-np.pi, np.pi, len(circuit.get_parameters())))\n",
    "        \n",
    "        # Measure QMatcha execution time\n",
    "        print(f\"1. ---- QMatcha\") if i == 0 else None\n",
    "        start_time = time.time()\n",
    "        outcome = qmatcha_backend.execute_circuit(circuit=circuit)\n",
    "        tmp_qmatcha_times.append(time.time() - start_time)\n",
    "\n",
    "        if q < qibojit_threshold:\n",
    "            \n",
    "            if i == 0:\n",
    "                outcome = qibojit_backend.execute_circuit(circuit=circuit)\n",
    "            \n",
    "            # Measure Qibojit execution time\n",
    "            print(f\"2. ---- Qibojit\") if i == 0 else None\n",
    "            start_time = time.time()\n",
    "            outcome = qibojit_backend.execute_circuit(circuit=circuit)\n",
    "            tmp_qibojit_times.append(time.time() - start_time)\n",
    "        \n",
    "    qmatcha_times.append(np.median(tmp_qmatcha_times))\n",
    "    qmatcha_errs.append(stats.median_abs_deviation(tmp_qmatcha_times))\n",
    "    \n",
    "    if q < qibojit_threshold:\n",
    "        qibojit_times.append(np.median(tmp_qibojit_times))\n",
    "        qibojit_errs.append(stats.median_abs_deviation(tmp_qibojit_times))"
   ]
  },
  {
   "cell_type": "code",
   "execution_count": 15,
   "id": "5620f476-1bc7-4cf8-9868-b127c715b6ec",
   "metadata": {},
   "outputs": [],
   "source": [
    "# Saving data\n",
    "# np.save(arr=qmatcha_times, file=\"qmatcha_times\")\n",
    "# np.save(arr=qibojit_times, file=\"qibojit_times\")\n",
    "# np.save(arr=qmatcha_errs, file=\"qmatcha_errs\")\n",
    "# np.save(arr=qibojit_errs, file=\"qibojit_errs\")\n",
    "\n",
    "qmatcha_times = np.load(\"qmatcha_times.npy\")\n",
    "qmatcha_errs = np.load(\"qmatcha_errs.npy\")\n",
    "qibojit_times = np.load(\"qibojit_times.npy\")\n",
    "qibojit_errs = np.load(\"qibojit_errs.npy\")"
   ]
  },
  {
   "cell_type": "code",
   "execution_count": 16,
   "id": "32d605e9-672a-40b6-8a1a-eb17bbc3c45e",
   "metadata": {},
   "outputs": [
    {
     "data": {
      "image/png": "[encoded data removed]",
      "text/plain": [
       "<Figure size 600x450 with 1 Axes>"
      ]
     },
     "metadata": {},
     "output_type": "display_data"
    }
   ],
   "source": [
    "import matplotlib.pyplot as plt\n",
    "\n",
    "plt.figure(figsize=(6, 6 * 6/8))\n",
    "plt.title(\"Simple test of CPU 12th Gen Intel® Core™ i7-1260P\")\n",
    "plt.errorbar(qmatcha_range, qmatcha_times, yerr=qmatcha_errs,  marker=\"o\", color=\"red\", label=\"QMatcha-numpy\", alpha=0.7)\n",
    "plt.errorbar(qibojit_range, qibojit_times, yerr=qibojit_errs,  marker=\"o\", color=\"blue\", label=\"Qibojit-numba\", alpha=0.7)\n",
    "plt.legend()\n",
    "plt.xlabel(\"Qubits\")\n",
    "plt.ylabel(\"Time [s]\")\n",
    "plt.grid(True)\n",
    "plt.yscale(\"log\")"
   ]
  },
  {
   "cell_type": "markdown",
   "id": "dd84f1f3-7aa5-4ad1-ae09-81e0aff75b5b",
   "metadata": {},
   "source": [
    "### Compute expectation values"
   ]
  },
  {
   "cell_type": "code",
   "execution_count": 17,
   "id": "0b46e315-7786-4247-bd2a-83ea1c5842eb",
   "metadata": {},
   "outputs": [],
   "source": [
    "from qibo.symbols import Z, X"
   ]
  },
  {
   "cell_type": "code",
   "execution_count": 18,
   "id": "37385485-e8a3-4ab0-ad44-bcc4e9da24ca",
   "metadata": {},
   "outputs": [
    {
     "name": "stdout",
     "output_type": "stream",
     "text": [
      "0: ─RY─RZ─o─────X─RY─RZ─o─────X─RY─RZ─o─────X─M─\n",
      "1: ─RY─RZ─X─o───|─RY─RZ─X─o───|─RY─RZ─X─o───|─M─\n",
      "2: ─RY─RZ───X─o─|─RY─RZ───X─o─|─RY─RZ───X─o─|─M─\n",
      "3: ─RY─RZ─────X─o─RY─RZ─────X─o─RY─RZ─────X─o─M─\n"
     ]
    }
   ],
   "source": [
    "# We are going to compute the expval of an Hamiltonian\n",
    "# On the state prepared by the following circuit\n",
    "circuit.draw()\n",
    "\n",
    "circuit.set_parameters(\n",
    "    np.random.randn(len(circuit.get_parameters()))\n",
    ")"
   ]
  },
  {
   "cell_type": "code",
   "execution_count": 19,
   "id": "ddecc910-7804-4199-8577-a7db38a16db8",
   "metadata": {},
   "outputs": [
    {
     "data": {
      "text/latex": [
       "$\\displaystyle - 1.5 X_{0} Z_{2} + 0.5 Z_{0} Z_{1} + Z_{3}$"
      ],
      "text/plain": [
       "-1.5*X0*Z2 + 0.5*Z0*Z1 + Z3"
      ]
     },
     "execution_count": 19,
     "metadata": {},
     "output_type": "execute_result"
    }
   ],
   "source": [
    "# We can create an Hamiltonian form\n",
    "form = 0.5 * Z(0) * Z(1) +- 1.5 *  X(0) * Z(2) + Z(3)\n",
    "form"
   ]
  },
  {
   "cell_type": "code",
   "execution_count": 20,
   "id": "a6599df3-989e-4131-8664-3451d0cc4372",
   "metadata": {},
   "outputs": [
    {
     "data": {
      "text/plain": [
       "\u001b[0;31mSignature:\u001b[0m \u001b[0mqmatcha_backend\u001b[0m\u001b[0;34m.\u001b[0m\u001b[0mexpectation\u001b[0m\u001b[0;34m(\u001b[0m\u001b[0mcircuit\u001b[0m\u001b[0;34m,\u001b[0m \u001b[0mobservable\u001b[0m\u001b[0;34m)\u001b[0m\u001b[0;34m\u001b[0m\u001b[0;34m\u001b[0m\u001b[0m\n",
       "\u001b[0;31mDocstring:\u001b[0m\n",
       "Compute the expectation value of a Qibo-friendly ``observable``\n",
       "on the Tensor Network constructed from a Qibo ``circuit``.\n",
       "\n",
       "This method takes a Qibo-style symbolic Hamiltonian (e.g., `X(0)*Z(1) + 2.0*Y(2)*Z(0)`) \n",
       "as the observable, converts it into a Quantum Matcha Tea (qmatchatea) observable\n",
       "(using `TNObsTensorProduct` and `TNObsWeightedSum`), and computes its expectation \n",
       "value using the provided circuit.\n",
       "\n",
       "Args:\n",
       "    circuit: A Qibo quantum circuit object on which the expectation value\n",
       "        is computed. The circuit should be compatible with the qmatchatea\n",
       "        Tensor Network backend.\n",
       "    observable: The observable whose expectation value we want to compute. \n",
       "        This must be provided in the symbolic Hamiltonian form supported by Qibo\n",
       "        (e.g., `X(0)*Y(1)` or `Z(0)*Z(1) + 1.5*Y(2)`).\n",
       "\n",
       "Returns:\n",
       "    qmatchatea.SimulationResult [TEMPORARY]\n",
       "\u001b[0;31mFile:\u001b[0m      ~/Documents/PhD/qibotn/src/qibotn/backends/qmatchatea.py\n",
       "\u001b[0;31mType:\u001b[0m      method\n"
      ]
     },
     "metadata": {},
     "output_type": "display_data"
    }
   ],
   "source": [
    "qmatcha_backend.expectation?"
   ]
  },
  {
   "cell_type": "code",
   "execution_count": 22,
   "id": "163b70a3-814a-4a62-a98a-2ffca933a544",
   "metadata": {},
   "outputs": [
    {
     "data": {
      "text/plain": [
       "0.41329220819521995"
      ]
     },
     "execution_count": 22,
     "metadata": {},
     "output_type": "execute_result"
    }
   ],
   "source": [
    "qmatcha_backend.expectation(\n",
    "    circuit=circuit,\n",
    "    observable=form,\n",
    ")"
   ]
  },
  {
   "cell_type": "code",
   "execution_count": 23,
   "id": "2d8c4a9c-eca3-49d0-bdbf-ab054172c4e5",
   "metadata": {},
   "outputs": [
    {
     "name": "stderr",
     "output_type": "stream",
     "text": [
      "[Qibo 0.2.16|INFO|2025-01-28 22:13:05]: Using qibojit (numba) backend on /CPU:0\n"
     ]
    },
    {
     "data": {
      "text/plain": [
       "0.4132922081952206"
      ]
     },
     "execution_count": 23,
     "metadata": {},
     "output_type": "execute_result"
    }
   ],
   "source": [
    "# Try with Qibo\n",
    "\n",
    "hamiltonian = hamiltonians.SymbolicHamiltonian(form)\n",
    "hamiltonian.expectation(circuit().state())"
   ]
  },
  {
   "cell_type": "markdown",
   "id": "94df291c-9ddc-4b2e-8442-5fca00784bd8",
   "metadata": {},
   "source": [
    "They match! 🥳"
   ]
  }
 ],
 "metadata": {
  "kernelspec": {
   "display_name": "Python 3 (ipykernel)",
   "language": "python",
   "name": "python3"
  },
  "language_info": {
   "codemirror_mode": {
    "name": "ipython",
    "version": 3
   },
   "file_extension": ".py",
   "mimetype": "text/x-python",
   "name": "python",
   "nbconvert_exporter": "python",
   "pygments_lexer": "ipython3",
   "version": "3.10.0"
  }
 },
 "nbformat": 4,
 "nbformat_minor": 5
}
